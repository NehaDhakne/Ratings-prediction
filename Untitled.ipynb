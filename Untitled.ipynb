{
 "cells": [
  {
   "cell_type": "markdown",
   "metadata": {},
   "source": [
    "STEPS:\n",
    "\n",
    "1) Data Cleaning\n",
    "\n",
    "2) Exploratory Data Analysis\n",
    "\n",
    "3) Data Preprocessing\n",
    "\n",
    "4) Model Building\n",
    "\n",
    "5) Model Evaluation\n",
    "\n",
    "6) Selecting the Best ML model"
   ]
  },
  {
   "cell_type": "code",
   "execution_count": 1,
   "metadata": {},
   "outputs": [],
   "source": [
    "# importing libraries\n",
    "\n",
    "import pandas as pd\n",
    "import numpy as np\n",
    "import seaborn as sns\n",
    "import matplotlib.pyplot as plt\n",
    "\n",
    "%matplotlib inline\n",
    "from wordcloud import WordCloud"
   ]
  },
  {
   "cell_type": "code",
   "execution_count": 2,
   "metadata": {},
   "outputs": [],
   "source": [
    "# importing natural language toolkit libraries\n",
    "\n",
    "import re\n",
    "import string\n",
    "import missingno\n",
    "import pandas_profiling\n",
    "import nltk\n",
    "from nltk.corpus import stopwords\n",
    "nltk.download('stopwords', quiet=True)\n",
    "nltk.download('punkt', quiet=True)\n",
    "nltk.download('wordnet', quiet=True)\n",
    "nltk.download('averaged_perceptron_tagger', quiet=True)\n",
    "from nltk import FreqDist\n",
    "from nltk.tokenize import word_tokenize\n",
    "from nltk.stem.wordnet import WordNetLemmatizer\n",
    "from nltk.corpus import wordnet\n",
    "from nltk import FreqDist\n"
   ]
  },
  {
   "cell_type": "code",
   "execution_count": 3,
   "metadata": {},
   "outputs": [],
   "source": [
    "# other imports\n",
    "\n",
    "from scipy import stats\n",
    "from scipy.stats import zscore\n",
    "from scipy.sparse import hstack\n",
    "import scikitplot as skplt\n",
    "from sklearn.feature_extraction.text import TfidfVectorizer\n",
    "from sklearn.preprocessing import StandardScaler\n",
    "from sklearn.model_selection import train_test_split, GridSearchCV \n",
    "from sklearn.model_selection import cross_val_score\n",
    "from sklearn.metrics import f1_score, precision_score, confusion_matrix, accuracy_score, classification_report"
   ]
  },
  {
   "cell_type": "code",
   "execution_count": 4,
   "metadata": {},
   "outputs": [],
   "source": [
    "from sklearn.svm import LinearSVC\n",
    "from sklearn.naive_bayes import MultinomialNB, GaussianNB, BernoulliNB\n",
    "from sklearn.linear_model import LogisticRegression\n",
    "from lightgbm import LGBMClassifier\n",
    "from sklearn.linear_model import SGDClassifier\n",
    "from sklearn.ensemble import RandomForestClassifier, ExtraTreesClassifier\n",
    "from sklearn.tree import DecisionTreeClassifier\n",
    "from xgboost.sklearn import XGBClassifier"
   ]
  },
  {
   "cell_type": "code",
   "execution_count": 5,
   "metadata": {},
   "outputs": [],
   "source": [
    "# warning imports\n",
    "\n",
    "import warnings\n",
    "warnings.simplefilter(\"ignore\")\n",
    "warnings.filterwarnings(\"ignore\")\n",
    "import joblib\n"
   ]
  },
  {
   "cell_type": "code",
   "execution_count": 6,
   "metadata": {},
   "outputs": [],
   "source": [
    "lemmatizer = nltk.stem.WordNetLemmatizer()"
   ]
  },
  {
   "cell_type": "markdown",
   "metadata": {},
   "source": [
    "DATA CLEANING AND EDA"
   ]
  },
  {
   "cell_type": "code",
   "execution_count": 7,
   "metadata": {},
   "outputs": [],
   "source": [
    "df = pd.read_csv(\"Review_Rating_Datafile.csv\")"
   ]
  },
  {
   "cell_type": "code",
   "execution_count": 8,
   "metadata": {},
   "outputs": [
    {
     "data": {
      "text/html": [
       "<div>\n",
       "<style scoped>\n",
       "    .dataframe tbody tr th:only-of-type {\n",
       "        vertical-align: middle;\n",
       "    }\n",
       "\n",
       "    .dataframe tbody tr th {\n",
       "        vertical-align: top;\n",
       "    }\n",
       "\n",
       "    .dataframe thead th {\n",
       "        text-align: right;\n",
       "    }\n",
       "</style>\n",
       "<table border=\"1\" class=\"dataframe\">\n",
       "  <thead>\n",
       "    <tr style=\"text-align: right;\">\n",
       "      <th></th>\n",
       "      <th>Unnamed: 0</th>\n",
       "      <th>Review_title</th>\n",
       "      <th>Review_text</th>\n",
       "      <th>Ratings</th>\n",
       "    </tr>\n",
       "  </thead>\n",
       "  <tbody>\n",
       "    <tr>\n",
       "      <th>0</th>\n",
       "      <td>0</td>\n",
       "      <td>Suitable for School kids</td>\n",
       "      <td>\\n  If you are a College student or a professi...</td>\n",
       "      <td>2.0 out of 5 stars</td>\n",
       "    </tr>\n",
       "    <tr>\n",
       "      <th>1</th>\n",
       "      <td>1</td>\n",
       "      <td>Misrepresentation on MS Office 2019 license - ...</td>\n",
       "      <td>\\n  Update after one month usage - MS Office 2...</td>\n",
       "      <td>2.0 out of 5 stars</td>\n",
       "    </tr>\n",
       "    <tr>\n",
       "      <th>2</th>\n",
       "      <td>2</td>\n",
       "      <td>The sold me renewed laptop</td>\n",
       "      <td>\\n  It’s look like renewed laptop because lapt...</td>\n",
       "      <td>2.0 out of 5 stars</td>\n",
       "    </tr>\n",
       "    <tr>\n",
       "      <th>3</th>\n",
       "      <td>3</td>\n",
       "      <td>Amazon dupes with specification/ battery sucks</td>\n",
       "      <td>\\n  &amp;nbsp;I had seen the specifications and bo...</td>\n",
       "      <td>2.0 out of 5 stars</td>\n",
       "    </tr>\n",
       "    <tr>\n",
       "      <th>4</th>\n",
       "      <td>4</td>\n",
       "      <td>Display back light issue</td>\n",
       "      <td>\\n  Display gone with 2 months.. But anyway th...</td>\n",
       "      <td>2.0 out of 5 stars</td>\n",
       "    </tr>\n",
       "  </tbody>\n",
       "</table>\n",
       "</div>"
      ],
      "text/plain": [
       "   Unnamed: 0                                       Review_title  \\\n",
       "0           0                           Suitable for School kids   \n",
       "1           1  Misrepresentation on MS Office 2019 license - ...   \n",
       "2           2                         The sold me renewed laptop   \n",
       "3           3     Amazon dupes with specification/ battery sucks   \n",
       "4           4                           Display back light issue   \n",
       "\n",
       "                                         Review_text             Ratings  \n",
       "0  \\n  If you are a College student or a professi...  2.0 out of 5 stars  \n",
       "1  \\n  Update after one month usage - MS Office 2...  2.0 out of 5 stars  \n",
       "2  \\n  It’s look like renewed laptop because lapt...  2.0 out of 5 stars  \n",
       "3  \\n  &nbsp;I had seen the specifications and bo...  2.0 out of 5 stars  \n",
       "4  \\n  Display gone with 2 months.. But anyway th...  2.0 out of 5 stars  "
      ]
     },
     "execution_count": 8,
     "metadata": {},
     "output_type": "execute_result"
    }
   ],
   "source": [
    "df.head()"
   ]
  },
  {
   "cell_type": "code",
   "execution_count": 9,
   "metadata": {},
   "outputs": [
    {
     "data": {
      "text/html": [
       "<div>\n",
       "<style scoped>\n",
       "    .dataframe tbody tr th:only-of-type {\n",
       "        vertical-align: middle;\n",
       "    }\n",
       "\n",
       "    .dataframe tbody tr th {\n",
       "        vertical-align: top;\n",
       "    }\n",
       "\n",
       "    .dataframe thead th {\n",
       "        text-align: right;\n",
       "    }\n",
       "</style>\n",
       "<table border=\"1\" class=\"dataframe\">\n",
       "  <thead>\n",
       "    <tr style=\"text-align: right;\">\n",
       "      <th></th>\n",
       "      <th>Unnamed: 0</th>\n",
       "      <th>Review_title</th>\n",
       "      <th>Review_text</th>\n",
       "      <th>Ratings</th>\n",
       "    </tr>\n",
       "  </thead>\n",
       "  <tbody>\n",
       "    <tr>\n",
       "      <th>77545</th>\n",
       "      <td>77545</td>\n",
       "      <td>Nice product</td>\n",
       "      <td>good product</td>\n",
       "      <td>4</td>\n",
       "    </tr>\n",
       "    <tr>\n",
       "      <th>77546</th>\n",
       "      <td>77546</td>\n",
       "      <td>Awesome</td>\n",
       "      <td>Very good as expected and happy with the purchase</td>\n",
       "      <td>5</td>\n",
       "    </tr>\n",
       "    <tr>\n",
       "      <th>77547</th>\n",
       "      <td>77547</td>\n",
       "      <td>Awesome</td>\n",
       "      <td>I love it! No complaint!</td>\n",
       "      <td>5</td>\n",
       "    </tr>\n",
       "    <tr>\n",
       "      <th>77548</th>\n",
       "      <td>77548</td>\n",
       "      <td>Nice product</td>\n",
       "      <td>good product</td>\n",
       "      <td>4</td>\n",
       "    </tr>\n",
       "    <tr>\n",
       "      <th>77549</th>\n",
       "      <td>77549</td>\n",
       "      <td>Awesome</td>\n",
       "      <td>Very good as expected and happy with the purchase</td>\n",
       "      <td>5</td>\n",
       "    </tr>\n",
       "  </tbody>\n",
       "</table>\n",
       "</div>"
      ],
      "text/plain": [
       "       Unnamed: 0  Review_title  \\\n",
       "77545       77545  Nice product   \n",
       "77546       77546       Awesome   \n",
       "77547       77547       Awesome   \n",
       "77548       77548  Nice product   \n",
       "77549       77549       Awesome   \n",
       "\n",
       "                                             Review_text Ratings  \n",
       "77545                                       good product       4  \n",
       "77546  Very good as expected and happy with the purchase       5  \n",
       "77547                           I love it! No complaint!       5  \n",
       "77548                                       good product       4  \n",
       "77549  Very good as expected and happy with the purchase       5  "
      ]
     },
     "execution_count": 9,
     "metadata": {},
     "output_type": "execute_result"
    }
   ],
   "source": [
    "df.tail()"
   ]
  },
  {
   "cell_type": "code",
   "execution_count": 10,
   "metadata": {},
   "outputs": [],
   "source": [
    "# deleting the column 'unnamed'\n",
    "\n",
    "df.drop(columns = 'Unnamed: 0', inplace = True)"
   ]
  },
  {
   "cell_type": "code",
   "execution_count": 11,
   "metadata": {},
   "outputs": [
    {
     "data": {
      "text/html": [
       "<div>\n",
       "<style scoped>\n",
       "    .dataframe tbody tr th:only-of-type {\n",
       "        vertical-align: middle;\n",
       "    }\n",
       "\n",
       "    .dataframe tbody tr th {\n",
       "        vertical-align: top;\n",
       "    }\n",
       "\n",
       "    .dataframe thead th {\n",
       "        text-align: right;\n",
       "    }\n",
       "</style>\n",
       "<table border=\"1\" class=\"dataframe\">\n",
       "  <thead>\n",
       "    <tr style=\"text-align: right;\">\n",
       "      <th></th>\n",
       "      <th>Review_title</th>\n",
       "      <th>Review_text</th>\n",
       "      <th>Ratings</th>\n",
       "    </tr>\n",
       "  </thead>\n",
       "  <tbody>\n",
       "    <tr>\n",
       "      <th>0</th>\n",
       "      <td>Suitable for School kids</td>\n",
       "      <td>\\n  If you are a College student or a professi...</td>\n",
       "      <td>2.0 out of 5 stars</td>\n",
       "    </tr>\n",
       "    <tr>\n",
       "      <th>1</th>\n",
       "      <td>Misrepresentation on MS Office 2019 license - ...</td>\n",
       "      <td>\\n  Update after one month usage - MS Office 2...</td>\n",
       "      <td>2.0 out of 5 stars</td>\n",
       "    </tr>\n",
       "    <tr>\n",
       "      <th>2</th>\n",
       "      <td>The sold me renewed laptop</td>\n",
       "      <td>\\n  It’s look like renewed laptop because lapt...</td>\n",
       "      <td>2.0 out of 5 stars</td>\n",
       "    </tr>\n",
       "    <tr>\n",
       "      <th>3</th>\n",
       "      <td>Amazon dupes with specification/ battery sucks</td>\n",
       "      <td>\\n  &amp;nbsp;I had seen the specifications and bo...</td>\n",
       "      <td>2.0 out of 5 stars</td>\n",
       "    </tr>\n",
       "    <tr>\n",
       "      <th>4</th>\n",
       "      <td>Display back light issue</td>\n",
       "      <td>\\n  Display gone with 2 months.. But anyway th...</td>\n",
       "      <td>2.0 out of 5 stars</td>\n",
       "    </tr>\n",
       "    <tr>\n",
       "      <th>5</th>\n",
       "      <td>Battery life</td>\n",
       "      <td>\\n  Battery backup give only one hour . What d...</td>\n",
       "      <td>2.0 out of 5 stars</td>\n",
       "    </tr>\n",
       "    <tr>\n",
       "      <th>6</th>\n",
       "      <td>No for professional works</td>\n",
       "      <td>\\n  Blue screen while power on the linux Opera...</td>\n",
       "      <td>2.0 out of 5 stars</td>\n",
       "    </tr>\n",
       "    <tr>\n",
       "      <th>7</th>\n",
       "      <td>monitor power issue</td>\n",
       "      <td>\\n  monitor is not turning on from 2 weeks of ...</td>\n",
       "      <td>2.0 out of 5 stars</td>\n",
       "    </tr>\n",
       "    <tr>\n",
       "      <th>8</th>\n",
       "      <td>waste</td>\n",
       "      <td>\\n  waste of money sometimes screen was marks\\n</td>\n",
       "      <td>2.0 out of 5 stars</td>\n",
       "    </tr>\n",
       "    <tr>\n",
       "      <th>9</th>\n",
       "      <td>Not able to download warranty card</td>\n",
       "      <td>\\n  Good\\n</td>\n",
       "      <td>2.0 out of 5 stars</td>\n",
       "    </tr>\n",
       "    <tr>\n",
       "      <th>10</th>\n",
       "      <td>NaN</td>\n",
       "      <td>NaN</td>\n",
       "      <td>NaN</td>\n",
       "    </tr>\n",
       "    <tr>\n",
       "      <th>11</th>\n",
       "      <td>NaN</td>\n",
       "      <td>NaN</td>\n",
       "      <td>NaN</td>\n",
       "    </tr>\n",
       "    <tr>\n",
       "      <th>12</th>\n",
       "      <td>Heating</td>\n",
       "      <td>\\n  Air vent is towards down side....can't kee...</td>\n",
       "      <td>2.0 out of 5 stars</td>\n",
       "    </tr>\n",
       "    <tr>\n",
       "      <th>13</th>\n",
       "      <td>NaN</td>\n",
       "      <td>NaN</td>\n",
       "      <td>NaN</td>\n",
       "    </tr>\n",
       "    <tr>\n",
       "      <th>14</th>\n",
       "      <td>Not a Great Product</td>\n",
       "      <td>\\n  Pros:&lt;br&gt;It is light weight, good graphics...</td>\n",
       "      <td>3.0 out of 5 stars</td>\n",
       "    </tr>\n",
       "    <tr>\n",
       "      <th>15</th>\n",
       "      <td>Heats up but rest is fine</td>\n",
       "      <td>\\n  The system heats up a lot during normal us...</td>\n",
       "      <td>3.0 out of 5 stars</td>\n",
       "    </tr>\n",
       "    <tr>\n",
       "      <th>16</th>\n",
       "      <td>When I performed HP Hardware diagnosis, the ke...</td>\n",
       "      <td>\\n  The product worked fine for the first five...</td>\n",
       "      <td>3.0 out of 5 stars</td>\n",
       "    </tr>\n",
       "    <tr>\n",
       "      <th>17</th>\n",
       "      <td>Heating issue is not acceptable for this range...</td>\n",
       "      <td>\\n  The only thing that i dont like is the hea...</td>\n",
       "      <td>3.0 out of 5 stars</td>\n",
       "    </tr>\n",
       "    <tr>\n",
       "      <th>18</th>\n",
       "      <td>Finding issue with display</td>\n",
       "      <td>\\n  I see screen gets some straight lines hori...</td>\n",
       "      <td>3.0 out of 5 stars</td>\n",
       "    </tr>\n",
       "    <tr>\n",
       "      <th>19</th>\n",
       "      <td>Design flaw</td>\n",
       "      <td>\\n  This is the one of the beat configurations...</td>\n",
       "      <td>3.0 out of 5 stars</td>\n",
       "    </tr>\n",
       "  </tbody>\n",
       "</table>\n",
       "</div>"
      ],
      "text/plain": [
       "                                         Review_title  \\\n",
       "0                            Suitable for School kids   \n",
       "1   Misrepresentation on MS Office 2019 license - ...   \n",
       "2                          The sold me renewed laptop   \n",
       "3      Amazon dupes with specification/ battery sucks   \n",
       "4                            Display back light issue   \n",
       "5                                        Battery life   \n",
       "6                           No for professional works   \n",
       "7                                 monitor power issue   \n",
       "8                                               waste   \n",
       "9                  Not able to download warranty card   \n",
       "10                                                NaN   \n",
       "11                                                NaN   \n",
       "12                                            Heating   \n",
       "13                                                NaN   \n",
       "14                                Not a Great Product   \n",
       "15                          Heats up but rest is fine   \n",
       "16  When I performed HP Hardware diagnosis, the ke...   \n",
       "17  Heating issue is not acceptable for this range...   \n",
       "18                         Finding issue with display   \n",
       "19                                        Design flaw   \n",
       "\n",
       "                                          Review_text             Ratings  \n",
       "0   \\n  If you are a College student or a professi...  2.0 out of 5 stars  \n",
       "1   \\n  Update after one month usage - MS Office 2...  2.0 out of 5 stars  \n",
       "2   \\n  It’s look like renewed laptop because lapt...  2.0 out of 5 stars  \n",
       "3   \\n  &nbsp;I had seen the specifications and bo...  2.0 out of 5 stars  \n",
       "4   \\n  Display gone with 2 months.. But anyway th...  2.0 out of 5 stars  \n",
       "5   \\n  Battery backup give only one hour . What d...  2.0 out of 5 stars  \n",
       "6   \\n  Blue screen while power on the linux Opera...  2.0 out of 5 stars  \n",
       "7   \\n  monitor is not turning on from 2 weeks of ...  2.0 out of 5 stars  \n",
       "8     \\n  waste of money sometimes screen was marks\\n  2.0 out of 5 stars  \n",
       "9                                          \\n  Good\\n  2.0 out of 5 stars  \n",
       "10                                                NaN                 NaN  \n",
       "11                                                NaN                 NaN  \n",
       "12  \\n  Air vent is towards down side....can't kee...  2.0 out of 5 stars  \n",
       "13                                                NaN                 NaN  \n",
       "14  \\n  Pros:<br>It is light weight, good graphics...  3.0 out of 5 stars  \n",
       "15  \\n  The system heats up a lot during normal us...  3.0 out of 5 stars  \n",
       "16  \\n  The product worked fine for the first five...  3.0 out of 5 stars  \n",
       "17  \\n  The only thing that i dont like is the hea...  3.0 out of 5 stars  \n",
       "18  \\n  I see screen gets some straight lines hori...  3.0 out of 5 stars  \n",
       "19  \\n  This is the one of the beat configurations...  3.0 out of 5 stars  "
      ]
     },
     "execution_count": 11,
     "metadata": {},
     "output_type": "execute_result"
    }
   ],
   "source": [
    "df.head(20)"
   ]
  },
  {
   "cell_type": "code",
   "execution_count": 12,
   "metadata": {},
   "outputs": [
    {
     "data": {
      "text/plain": [
       "(77550, 3)"
      ]
     },
     "execution_count": 12,
     "metadata": {},
     "output_type": "execute_result"
    }
   ],
   "source": [
    "# more information about our data\n",
    "\n",
    "df.shape"
   ]
  },
  {
   "cell_type": "markdown",
   "metadata": {},
   "source": [
    "we have 77550 rows and 3 columns. More data results in better results."
   ]
  },
  {
   "cell_type": "markdown",
   "metadata": {},
   "source": [
    "we can see we have some missing data in our datasets, we will have to treat that."
   ]
  },
  {
   "cell_type": "code",
   "execution_count": 13,
   "metadata": {},
   "outputs": [
    {
     "data": {
      "text/plain": [
       "Review_title    9029\n",
       "Review_text     8085\n",
       "Ratings         9027\n",
       "dtype: int64"
      ]
     },
     "execution_count": 13,
     "metadata": {},
     "output_type": "execute_result"
    }
   ],
   "source": [
    "# checking for missing values\n",
    "\n",
    "df.isna().sum()"
   ]
  },
  {
   "cell_type": "code",
   "execution_count": 14,
   "metadata": {},
   "outputs": [
    {
     "data": {
      "text/plain": [
       "<AxesSubplot:>"
      ]
     },
     "execution_count": 14,
     "metadata": {},
     "output_type": "execute_result"
    }
   ],
   "source": [
    "#visual representation of missing values in the dataset\n",
    "\n",
    "missingno.matrix(df, figsize = (15,8), color=(0.25, 0.75, 0.25), fontsize=18)"
   ]
  },
  {
   "cell_type": "code",
   "execution_count": 15,
   "metadata": {},
   "outputs": [],
   "source": [
    "# removing rows with missing data\n",
    "\n",
    "df.dropna(inplace=True)"
   ]
  },
  {
   "cell_type": "code",
   "execution_count": 16,
   "metadata": {},
   "outputs": [
    {
     "data": {
      "text/plain": [
       "(68294, 3)"
      ]
     },
     "execution_count": 16,
     "metadata": {},
     "output_type": "execute_result"
    }
   ],
   "source": [
    "df.shape"
   ]
  },
  {
   "cell_type": "markdown",
   "metadata": {},
   "source": [
    "earlier we had 77550 rows now after deleting the missing data we have 68294 rows"
   ]
  },
  {
   "cell_type": "code",
   "execution_count": 17,
   "metadata": {},
   "outputs": [
    {
     "data": {
      "text/plain": [
       "Review_title    0\n",
       "Review_text     0\n",
       "Ratings         0\n",
       "dtype: int64"
      ]
     },
     "execution_count": 17,
     "metadata": {},
     "output_type": "execute_result"
    }
   ],
   "source": [
    "# checking to see if there are more null values\n",
    "\n",
    "df.isnull().sum()"
   ]
  },
  {
   "cell_type": "code",
   "execution_count": 18,
   "metadata": {},
   "outputs": [
    {
     "data": {
      "text/plain": [
       "array(['Suitable for School kids',\n",
       "       'Misrepresentation on MS Office 2019 license - it is one month trial',\n",
       "       'The sold me renewed laptop', ..., 'sufficient for gaming',\n",
       "       'Design looks very good',\n",
       "       'Great Monitor in this Price Range, with all Features.'],\n",
       "      dtype=object)"
      ]
     },
     "execution_count": 18,
     "metadata": {},
     "output_type": "execute_result"
    }
   ],
   "source": [
    "df['Review_title'].unique()"
   ]
  },
  {
   "cell_type": "code",
   "execution_count": 19,
   "metadata": {},
   "outputs": [
    {
     "data": {
      "text/plain": [
       "array(['2.0 out of 5 stars', '3.0 out of 5 stars', '1.0 out of 5 stars',\n",
       "       '5.0 out of 5 stars', '4.0 out of 5 stars', '5', '1', '4', '3',\n",
       "       '2'], dtype=object)"
      ]
     },
     "execution_count": 19,
     "metadata": {},
     "output_type": "execute_result"
    }
   ],
   "source": [
    "df['Ratings'].unique()"
   ]
  },
  {
   "cell_type": "code",
   "execution_count": 20,
   "metadata": {},
   "outputs": [
    {
     "data": {
      "text/plain": [
       "array([2, 3, 1, 5, 4])"
      ]
     },
     "execution_count": 20,
     "metadata": {},
     "output_type": "execute_result"
    }
   ],
   "source": [
    "df['Ratings'] = df['Ratings'].replace('1.0 out of 5 stars',1)\n",
    "df['Ratings'] = df['Ratings'].replace('2.0 out of 5 stars',2)\n",
    "df['Ratings'] = df['Ratings'].replace('3.0 out of 5 stars',3)\n",
    "df['Ratings'] = df['Ratings'].replace('4.0 out of 5 stars',4)\n",
    "df['Ratings'] = df['Ratings'].replace('5.0 out of 5 stars',5)\n",
    "df['Ratings'] = df['Ratings'].astype('int')\n",
    "df['Ratings'].unique()"
   ]
  },
  {
   "cell_type": "code",
   "execution_count": 21,
   "metadata": {},
   "outputs": [
    {
     "data": {
      "text/html": [
       "<div>\n",
       "<style scoped>\n",
       "    .dataframe tbody tr th:only-of-type {\n",
       "        vertical-align: middle;\n",
       "    }\n",
       "\n",
       "    .dataframe tbody tr th {\n",
       "        vertical-align: top;\n",
       "    }\n",
       "\n",
       "    .dataframe thead th {\n",
       "        text-align: right;\n",
       "    }\n",
       "</style>\n",
       "<table border=\"1\" class=\"dataframe\">\n",
       "  <thead>\n",
       "    <tr style=\"text-align: right;\">\n",
       "      <th></th>\n",
       "      <th>Review_title</th>\n",
       "      <th>Review_text</th>\n",
       "      <th>Ratings</th>\n",
       "      <th>Review</th>\n",
       "    </tr>\n",
       "  </thead>\n",
       "  <tbody>\n",
       "    <tr>\n",
       "      <th>0</th>\n",
       "      <td>Suitable for School kids</td>\n",
       "      <td>\\n  If you are a College student or a professi...</td>\n",
       "      <td>2</td>\n",
       "      <td>Suitable for School kids \\n  If you are a Coll...</td>\n",
       "    </tr>\n",
       "    <tr>\n",
       "      <th>1</th>\n",
       "      <td>Misrepresentation on MS Office 2019 license - ...</td>\n",
       "      <td>\\n  Update after one month usage - MS Office 2...</td>\n",
       "      <td>2</td>\n",
       "      <td>Misrepresentation on MS Office 2019 license - ...</td>\n",
       "    </tr>\n",
       "    <tr>\n",
       "      <th>2</th>\n",
       "      <td>The sold me renewed laptop</td>\n",
       "      <td>\\n  It’s look like renewed laptop because lapt...</td>\n",
       "      <td>2</td>\n",
       "      <td>The sold me renewed laptop \\n  It’s look like ...</td>\n",
       "    </tr>\n",
       "    <tr>\n",
       "      <th>3</th>\n",
       "      <td>Amazon dupes with specification/ battery sucks</td>\n",
       "      <td>\\n  &amp;nbsp;I had seen the specifications and bo...</td>\n",
       "      <td>2</td>\n",
       "      <td>Amazon dupes with specification/ battery sucks...</td>\n",
       "    </tr>\n",
       "    <tr>\n",
       "      <th>4</th>\n",
       "      <td>Display back light issue</td>\n",
       "      <td>\\n  Display gone with 2 months.. But anyway th...</td>\n",
       "      <td>2</td>\n",
       "      <td>Display back light issue \\n  Display gone with...</td>\n",
       "    </tr>\n",
       "    <tr>\n",
       "      <th>...</th>\n",
       "      <td>...</td>\n",
       "      <td>...</td>\n",
       "      <td>...</td>\n",
       "      <td>...</td>\n",
       "    </tr>\n",
       "    <tr>\n",
       "      <th>77545</th>\n",
       "      <td>Nice product</td>\n",
       "      <td>good product</td>\n",
       "      <td>4</td>\n",
       "      <td>Nice product good product</td>\n",
       "    </tr>\n",
       "    <tr>\n",
       "      <th>77546</th>\n",
       "      <td>Awesome</td>\n",
       "      <td>Very good as expected and happy with the purchase</td>\n",
       "      <td>5</td>\n",
       "      <td>Awesome Very good as expected and happy with t...</td>\n",
       "    </tr>\n",
       "    <tr>\n",
       "      <th>77547</th>\n",
       "      <td>Awesome</td>\n",
       "      <td>I love it! No complaint!</td>\n",
       "      <td>5</td>\n",
       "      <td>Awesome I love it! No complaint!</td>\n",
       "    </tr>\n",
       "    <tr>\n",
       "      <th>77548</th>\n",
       "      <td>Nice product</td>\n",
       "      <td>good product</td>\n",
       "      <td>4</td>\n",
       "      <td>Nice product good product</td>\n",
       "    </tr>\n",
       "    <tr>\n",
       "      <th>77549</th>\n",
       "      <td>Awesome</td>\n",
       "      <td>Very good as expected and happy with the purchase</td>\n",
       "      <td>5</td>\n",
       "      <td>Awesome Very good as expected and happy with t...</td>\n",
       "    </tr>\n",
       "  </tbody>\n",
       "</table>\n",
       "<p>68294 rows × 4 columns</p>\n",
       "</div>"
      ],
      "text/plain": [
       "                                            Review_title  \\\n",
       "0                               Suitable for School kids   \n",
       "1      Misrepresentation on MS Office 2019 license - ...   \n",
       "2                             The sold me renewed laptop   \n",
       "3         Amazon dupes with specification/ battery sucks   \n",
       "4                               Display back light issue   \n",
       "...                                                  ...   \n",
       "77545                                       Nice product   \n",
       "77546                                            Awesome   \n",
       "77547                                            Awesome   \n",
       "77548                                       Nice product   \n",
       "77549                                            Awesome   \n",
       "\n",
       "                                             Review_text  Ratings  \\\n",
       "0      \\n  If you are a College student or a professi...        2   \n",
       "1      \\n  Update after one month usage - MS Office 2...        2   \n",
       "2      \\n  It’s look like renewed laptop because lapt...        2   \n",
       "3      \\n  &nbsp;I had seen the specifications and bo...        2   \n",
       "4      \\n  Display gone with 2 months.. But anyway th...        2   \n",
       "...                                                  ...      ...   \n",
       "77545                                       good product        4   \n",
       "77546  Very good as expected and happy with the purchase        5   \n",
       "77547                           I love it! No complaint!        5   \n",
       "77548                                       good product        4   \n",
       "77549  Very good as expected and happy with the purchase        5   \n",
       "\n",
       "                                                  Review  \n",
       "0      Suitable for School kids \\n  If you are a Coll...  \n",
       "1      Misrepresentation on MS Office 2019 license - ...  \n",
       "2      The sold me renewed laptop \\n  It’s look like ...  \n",
       "3      Amazon dupes with specification/ battery sucks...  \n",
       "4      Display back light issue \\n  Display gone with...  \n",
       "...                                                  ...  \n",
       "77545                          Nice product good product  \n",
       "77546  Awesome Very good as expected and happy with t...  \n",
       "77547                   Awesome I love it! No complaint!  \n",
       "77548                          Nice product good product  \n",
       "77549  Awesome Very good as expected and happy with t...  \n",
       "\n",
       "[68294 rows x 4 columns]"
      ]
     },
     "execution_count": 21,
     "metadata": {},
     "output_type": "execute_result"
    }
   ],
   "source": [
    "# Now combining the \"Review_title\" and \"Review_text\" columns into one single column called \"Review\"\n",
    "\n",
    "df['Review'] = df['Review_title'].map(str)+' '+df['Review_text']\n",
    "df"
   ]
  },
  {
   "cell_type": "code",
   "execution_count": 22,
   "metadata": {},
   "outputs": [
    {
     "data": {
      "text/plain": [
       "'Suitable for School kids \\n  If you are a College student or a professional who depends heavily on laptop for pretty much everyday then  this laptop is not for you. It hangs more often than it runs. Cannot install essential computer science software such as Eclipse or android studio because then this laptop just dies.<br><br>I took this laptop thinking that it will have good performance based on its configuration.<br><br>But if you are someone who wants to attend online classes or just browse, then you may go for this laptop.\\n'"
      ]
     },
     "execution_count": 22,
     "metadata": {},
     "output_type": "execute_result"
    }
   ],
   "source": [
    "df['Review'][0]\n"
   ]
  },
  {
   "cell_type": "code",
   "execution_count": 23,
   "metadata": {},
   "outputs": [
    {
     "data": {
      "text/plain": [
       "'Misrepresentation on MS Office 2019 license - it is one month trial \\n  Update after one month usage - MS Office 2019 preinstalled edition became unlicensed version within 30 days and refused to activate. HP support shared their product sheet that stated that this laptop came only with a trial version of MS Office 2019. Now I am chasing seller Appario Retail to honour the commitment.<br><br>Bad experience after paying high price (around ₹67,000) for preinstalled genuine software.<br><br>Other wise product has sleek looks, superfast fingerprint scanner, very good display, very responsive touchpad, decent (but tinny) speakers, USB C and barrel plug charging options and under 10 second boot up (SSD drive). Preloaded with Win10 Home and MS Office (not sure whether trial or full version). Drawbacks - weighs 1.42 kg, base gets warm rather quickly and so does the power adapter. Decent for a college student.\\n'"
      ]
     },
     "execution_count": 23,
     "metadata": {},
     "output_type": "execute_result"
    }
   ],
   "source": [
    "df['Review'][1]\n"
   ]
  },
  {
   "cell_type": "code",
   "execution_count": 24,
   "metadata": {},
   "outputs": [
    {
     "data": {
      "text/plain": [
       "'The sold me renewed laptop \\n  It’s look like renewed laptop because laptop charging jack is loose and left side speaker sounds like it’s tear. Bad sound quality  and finger sensor quality look like 2011 touch phone of wing and any Chinese phone touch. Waste of money and one more thing day by day Amazon product quality getting poor\\n'"
      ]
     },
     "execution_count": 24,
     "metadata": {},
     "output_type": "execute_result"
    }
   ],
   "source": [
    "df['Review'][2]\n"
   ]
  },
  {
   "cell_type": "code",
   "execution_count": 25,
   "metadata": {},
   "outputs": [],
   "source": [
    "def decontracted(text):\n",
    "    text = re.sub(r\"won't\", \"will not\", text)\n",
    "    text = re.sub(r\"don’t\", \"do not\", text)\n",
    "    text = re.sub(r\"can't\", \"can not\", text)\n",
    "    text = re.sub(r\"im \", \"i am\", text)\n",
    "    text = re.sub(r\"yo \", \"you \",text)\n",
    "    text = re.sub(r\"doesn’t\", \"does not\",text)\n",
    "    text = re.sub(r\"n\\'t\", \" not\", text)\n",
    "    text = re.sub(r\"\\'re\", \" are\", text)\n",
    "    text = re.sub(r\"\\'s\", \" is\", text)\n",
    "    text = re.sub(r\"\\'d\", \" would\", text)\n",
    "    text = re.sub(r\"\\'ll\", \" will\", text)\n",
    "    text = re.sub(r\"\\'t\", \" not\", text)\n",
    "    text = re.sub(r\"\\'ve\", \" have\", text)\n",
    "    text = re.sub(r\"\\'m\", \" am\", text)\n",
    "    text = re.sub(r\"<br>\", \" \", text)\n",
    "    text = re.sub(r'http\\S+', '', text) #removing urls\n",
    "    return text\n",
    "\n",
    "# Lowercasing the alphabets\n",
    "df['Review'] = df['Review'].apply(lambda x : x.lower())\n",
    "df['Review'] = df['Review'].apply(lambda x : decontracted(x))\n",
    "\n",
    "# Removing punctuations from the review\n",
    "df['Review'] = df['Review'].str.replace('[^\\w\\s]','')\n",
    "df['Review'] = df['Review'].str.replace('\\n',' ')"
   ]
  },
  {
   "cell_type": "code",
   "execution_count": 26,
   "metadata": {},
   "outputs": [],
   "source": [
    "# Removing all the stopwords\n",
    "\n",
    "stop = stopwords.words('english')\n",
    "df['Review'] = df['Review'].apply(lambda x: ' '.join([word for word in x.split() if word not in (stop)]))"
   ]
  },
  {
   "cell_type": "code",
   "execution_count": 27,
   "metadata": {},
   "outputs": [
    {
     "data": {
      "text/plain": [
       "'suitable school kids college student professional depends heavily laptop pretty much everyday laptop hangs often runs cannot install essential computer science software eclipse android studio laptop dies took laptop thinking good performance based configuration someone wants attend online classes browse may go laptop'"
      ]
     },
     "execution_count": 27,
     "metadata": {},
     "output_type": "execute_result"
    }
   ],
   "source": [
    "df['Review'][0]\n"
   ]
  },
  {
   "cell_type": "code",
   "execution_count": 28,
   "metadata": {},
   "outputs": [],
   "source": [
    "# Defining functiom to convert nltk tag to wordnet tags\n",
    "def nltk_tag_to_wordnet_tag(nltk_tag):\n",
    "    if nltk_tag.startswith('J'):\n",
    "        return wordnet.ADJ\n",
    "    elif nltk_tag.startswith('V'):\n",
    "        return wordnet.VERB\n",
    "    elif nltk_tag.startswith('N'):\n",
    "        return wordnet.NOUN\n",
    "    elif nltk_tag.startswith('R'):\n",
    "        return wordnet.ADV\n",
    "    else:\n",
    "        return None\n",
    "    \n",
    "# Defining function to lemmatize our text\n",
    "def lemmatize_sentence(sentence):\n",
    "    # tokenize the sentence and find the pos_tag\n",
    "    nltk_tagged = nltk.pos_tag(nltk.word_tokenize(sentence))\n",
    "    # tuple of (token, wordnet_tag)\n",
    "    wordnet_tagged = map(lambda x : (x[0], nltk_tag_to_wordnet_tag(x[1])), nltk_tagged)\n",
    "    lemmatize_sentence = []\n",
    "    for word, tag in wordnet_tagged:\n",
    "        if tag is None:\n",
    "            lemmatize_sentence.append(word)\n",
    "        else:\n",
    "            lemmatize_sentence.append(lemmatizer.lemmatize(word,tag))\n",
    "    return \" \".join(lemmatize_sentence)    \n",
    "\n",
    "df['Review'] = df['Review'].apply(lambda x : lemmatize_sentence(x))"
   ]
  },
  {
   "cell_type": "code",
   "execution_count": 29,
   "metadata": {},
   "outputs": [
    {
     "data": {
      "text/plain": [
       "'suitable school kid college student professional depend heavily laptop pretty much everyday laptop hang often run can not install essential computer science software eclipse android studio laptop dy take laptop thinking good performance base configuration someone want attend online class browse may go laptop'"
      ]
     },
     "execution_count": 29,
     "metadata": {},
     "output_type": "execute_result"
    }
   ],
   "source": [
    "df['Review'][0]"
   ]
  },
  {
   "cell_type": "code",
   "execution_count": 30,
   "metadata": {},
   "outputs": [],
   "source": [
    "# Noise removal function\n",
    "def scrub_words(text):\n",
    "    # remove HTML markup\n",
    "    text = re.sub(\"(<.*?>)\", \"\", text)\n",
    "    # remove non-ascii and digits\n",
    "    text = re.sub(\"(\\\\W)\", \" \", text)\n",
    "    text = re.sub(\"(\\\\d)\", \"\", text)\n",
    "    # remove white space\n",
    "    text = text.strip()\n",
    "    return text\n",
    "\n",
    "df['Review'] = df['Review'].apply(lambda x : scrub_words(x))"
   ]
  },
  {
   "cell_type": "code",
   "execution_count": 31,
   "metadata": {},
   "outputs": [
    {
     "data": {
      "text/plain": [
       "'suitable school kid college student professional depend heavily laptop pretty much everyday laptop hang often run can not install essential computer science software eclipse android studio laptop dy take laptop thinking good performance base configuration someone want attend online class browse may go laptop'"
      ]
     },
     "execution_count": 31,
     "metadata": {},
     "output_type": "execute_result"
    }
   ],
   "source": [
    "df['Review'][0]"
   ]
  },
  {
   "cell_type": "code",
   "execution_count": 32,
   "metadata": {},
   "outputs": [
    {
     "data": {
      "text/html": [
       "<div>\n",
       "<style scoped>\n",
       "    .dataframe tbody tr th:only-of-type {\n",
       "        vertical-align: middle;\n",
       "    }\n",
       "\n",
       "    .dataframe tbody tr th {\n",
       "        vertical-align: top;\n",
       "    }\n",
       "\n",
       "    .dataframe thead th {\n",
       "        text-align: right;\n",
       "    }\n",
       "</style>\n",
       "<table border=\"1\" class=\"dataframe\">\n",
       "  <thead>\n",
       "    <tr style=\"text-align: right;\">\n",
       "      <th></th>\n",
       "      <th>Review_WC</th>\n",
       "      <th>Review</th>\n",
       "    </tr>\n",
       "  </thead>\n",
       "  <tbody>\n",
       "    <tr>\n",
       "      <th>0</th>\n",
       "      <td>44</td>\n",
       "      <td>suitable school kid college student profession...</td>\n",
       "    </tr>\n",
       "    <tr>\n",
       "      <th>1</th>\n",
       "      <td>103</td>\n",
       "      <td>misrepresentation m office  license one month ...</td>\n",
       "    </tr>\n",
       "    <tr>\n",
       "      <th>2</th>\n",
       "      <td>43</td>\n",
       "      <td>sell renew laptop look like renew laptop lapto...</td>\n",
       "    </tr>\n",
       "    <tr>\n",
       "      <th>3</th>\n",
       "      <td>21</td>\n",
       "      <td>amazon dupe specification battery suck nbspi s...</td>\n",
       "    </tr>\n",
       "    <tr>\n",
       "      <th>4</th>\n",
       "      <td>16</td>\n",
       "      <td>display back light issue display go  month any...</td>\n",
       "    </tr>\n",
       "    <tr>\n",
       "      <th>5</th>\n",
       "      <td>7</td>\n",
       "      <td>battery life battery backup give one hour</td>\n",
       "    </tr>\n",
       "    <tr>\n",
       "      <th>6</th>\n",
       "      <td>18</td>\n",
       "      <td>professional work blue screen power linux oper...</td>\n",
       "    </tr>\n",
       "    <tr>\n",
       "      <th>7</th>\n",
       "      <td>8</td>\n",
       "      <td>monitor power issue monitor turn  week purchase</td>\n",
       "    </tr>\n",
       "    <tr>\n",
       "      <th>8</th>\n",
       "      <td>6</td>\n",
       "      <td>waste waste money sometimes screen mark</td>\n",
       "    </tr>\n",
       "    <tr>\n",
       "      <th>9</th>\n",
       "      <td>5</td>\n",
       "      <td>able download warranty card good</td>\n",
       "    </tr>\n",
       "  </tbody>\n",
       "</table>\n",
       "</div>"
      ],
      "text/plain": [
       "   Review_WC                                             Review\n",
       "0         44  suitable school kid college student profession...\n",
       "1        103  misrepresentation m office  license one month ...\n",
       "2         43  sell renew laptop look like renew laptop lapto...\n",
       "3         21  amazon dupe specification battery suck nbspi s...\n",
       "4         16  display back light issue display go  month any...\n",
       "5          7          battery life battery backup give one hour\n",
       "6         18  professional work blue screen power linux oper...\n",
       "7          8    monitor power issue monitor turn  week purchase\n",
       "8          6            waste waste money sometimes screen mark\n",
       "9          5                   able download warranty card good"
      ]
     },
     "execution_count": 32,
     "metadata": {},
     "output_type": "execute_result"
    }
   ],
   "source": [
    "# Creating column for word counts in the review text\n",
    "\n",
    "df['Review_WC'] = df['Review'].apply(lambda x: len(str(x).split(' ')))\n",
    "df[['Review_WC', 'Review']].head(10)"
   ]
  },
  {
   "cell_type": "code",
   "execution_count": 33,
   "metadata": {},
   "outputs": [],
   "source": [
    "# Density plot and histogram of all word count\n",
    "plt.figure(figsize=(10,7))\n",
    "sns.distplot(df['Review_WC'], hist = True, kde = True,\n",
    "            bins = int(180/5), color = 'darkblue',\n",
    "            hist_kws = {'edgecolor':'black'},\n",
    "            kde_kws = {'linewidth':4})\n",
    "plt.show()"
   ]
  },
  {
   "cell_type": "code",
   "execution_count": 34,
   "metadata": {},
   "outputs": [
    {
     "data": {
      "text/html": [
       "<div>\n",
       "<style scoped>\n",
       "    .dataframe tbody tr th:only-of-type {\n",
       "        vertical-align: middle;\n",
       "    }\n",
       "\n",
       "    .dataframe tbody tr th {\n",
       "        vertical-align: top;\n",
       "    }\n",
       "\n",
       "    .dataframe thead th {\n",
       "        text-align: right;\n",
       "    }\n",
       "</style>\n",
       "<table border=\"1\" class=\"dataframe\">\n",
       "  <thead>\n",
       "    <tr style=\"text-align: right;\">\n",
       "      <th></th>\n",
       "      <th>Review_CC</th>\n",
       "      <th>Review</th>\n",
       "    </tr>\n",
       "  </thead>\n",
       "  <tbody>\n",
       "    <tr>\n",
       "      <th>0</th>\n",
       "      <td>309</td>\n",
       "      <td>suitable school kid college student profession...</td>\n",
       "    </tr>\n",
       "    <tr>\n",
       "      <th>1</th>\n",
       "      <td>654</td>\n",
       "      <td>misrepresentation m office  license one month ...</td>\n",
       "    </tr>\n",
       "    <tr>\n",
       "      <th>2</th>\n",
       "      <td>250</td>\n",
       "      <td>sell renew laptop look like renew laptop lapto...</td>\n",
       "    </tr>\n",
       "    <tr>\n",
       "      <th>3</th>\n",
       "      <td>126</td>\n",
       "      <td>amazon dupe specification battery suck nbspi s...</td>\n",
       "    </tr>\n",
       "    <tr>\n",
       "      <th>4</th>\n",
       "      <td>102</td>\n",
       "      <td>display back light issue display go  month any...</td>\n",
       "    </tr>\n",
       "    <tr>\n",
       "      <th>5</th>\n",
       "      <td>41</td>\n",
       "      <td>battery life battery backup give one hour</td>\n",
       "    </tr>\n",
       "    <tr>\n",
       "      <th>6</th>\n",
       "      <td>125</td>\n",
       "      <td>professional work blue screen power linux oper...</td>\n",
       "    </tr>\n",
       "    <tr>\n",
       "      <th>7</th>\n",
       "      <td>47</td>\n",
       "      <td>monitor power issue monitor turn  week purchase</td>\n",
       "    </tr>\n",
       "    <tr>\n",
       "      <th>8</th>\n",
       "      <td>39</td>\n",
       "      <td>waste waste money sometimes screen mark</td>\n",
       "    </tr>\n",
       "    <tr>\n",
       "      <th>9</th>\n",
       "      <td>32</td>\n",
       "      <td>able download warranty card good</td>\n",
       "    </tr>\n",
       "  </tbody>\n",
       "</table>\n",
       "</div>"
      ],
      "text/plain": [
       "   Review_CC                                             Review\n",
       "0        309  suitable school kid college student profession...\n",
       "1        654  misrepresentation m office  license one month ...\n",
       "2        250  sell renew laptop look like renew laptop lapto...\n",
       "3        126  amazon dupe specification battery suck nbspi s...\n",
       "4        102  display back light issue display go  month any...\n",
       "5         41          battery life battery backup give one hour\n",
       "6        125  professional work blue screen power linux oper...\n",
       "7         47    monitor power issue monitor turn  week purchase\n",
       "8         39            waste waste money sometimes screen mark\n",
       "9         32                   able download warranty card good"
      ]
     },
     "execution_count": 34,
     "metadata": {},
     "output_type": "execute_result"
    }
   ],
   "source": [
    "# Creating column for character counts in the review text\n",
    "df['Review_CC'] = df['Review'].str.len()\n",
    "df[['Review_CC','Review']].head(10)"
   ]
  },
  {
   "cell_type": "code",
   "execution_count": 35,
   "metadata": {},
   "outputs": [],
   "source": [
    "# Density plot and histogram of all character count\n",
    "plt.figure(figsize=(10,7))\n",
    "sns.distplot(df['Review_CC'], hist = True, kde = True,\n",
    "            bins = int(180/5), color = 'darkblue',\n",
    "            hist_kws = {'edgecolor':'black'},\n",
    "            kde_kws = {'linewidth':4})\n",
    "plt.show()"
   ]
  },
  {
   "cell_type": "code",
   "execution_count": null,
   "metadata": {},
   "outputs": [],
   "source": []
  }
 ],
 "metadata": {
  "kernelspec": {
   "display_name": "Python 3",
   "language": "python",
   "name": "python3"
  },
  "language_info": {
   "codemirror_mode": {
    "name": "ipython",
    "version": 3
   },
   "file_extension": ".py",
   "mimetype": "text/x-python",
   "name": "python",
   "nbconvert_exporter": "python",
   "pygments_lexer": "ipython3",
   "version": "3.8.5"
  }
 },
 "nbformat": 4,
 "nbformat_minor": 4
}
